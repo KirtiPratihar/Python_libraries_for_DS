{
 "cells": [
  {
   "cell_type": "markdown",
   "id": "b06dc38a-b50e-4e86-8db4-65ea6918a163",
   "metadata": {},
   "source": [
    "#   NumPy\n",
    "### 1)what is Numpy?\n",
    "- Numpy is the core library for scientific and numeric computing in python. it provides high performance multidimentional array object and tool for working with arrays. Its main object is the multi-dimention array.\n",
    "- It is a table of elements(usually numbers),all of the same type, indexed by a tuple of positive integers. in Numpy dimensions are called axes.\n",
    "\n",
    "### 2)Why should we use Numpy array when we have python list?\n",
    "- Fast\n",
    "- convenient\n",
    "- Less Memory\n",
    "    "
   ]
  },
  {
   "cell_type": "code",
   "execution_count": 2,
   "id": "ec47ba61-7843-4354-815f-131834c03c98",
   "metadata": {},
   "outputs": [],
   "source": [
    "import numpy as np"
   ]
  },
  {
   "cell_type": "code",
   "execution_count": 4,
   "id": "98e7e715-60f2-4454-be52-a48e504b2483",
   "metadata": {},
   "outputs": [
    {
     "data": {
      "text/plain": [
       "array([1, 2, 3])"
      ]
     },
     "execution_count": 4,
     "metadata": {},
     "output_type": "execute_result"
    }
   ],
   "source": [
    "a = np.array([1,2,3])\n",
    "a"
   ]
  },
  {
   "cell_type": "code",
   "execution_count": 4,
   "id": "87de02f0-5c6f-4e37-ac0b-0aba4712d21e",
   "metadata": {},
   "outputs": [
    {
     "data": {
      "text/plain": [
       "1"
      ]
     },
     "execution_count": 4,
     "metadata": {},
     "output_type": "execute_result"
    }
   ],
   "source": [
    "a[0]"
   ]
  },
  {
   "cell_type": "code",
   "execution_count": 5,
   "id": "519ccfd8-6fb9-4f78-910a-bb4b87a8b9e8",
   "metadata": {},
   "outputs": [],
   "source": [
    "import time\n",
    "import sys"
   ]
  },
  {
   "cell_type": "code",
   "execution_count": 7,
   "id": "5051cdc1-edbe-4c6a-9652-af6d48952514",
   "metadata": {},
   "outputs": [
    {
     "name": "stdout",
     "output_type": "stream",
     "text": [
      "28000\n",
      "4000\n"
     ]
    }
   ],
   "source": [
    "#to check the size diff in list and array\n",
    "b=range(1000)\n",
    "print(sys.getsizeof(5)*len(b))\n",
    "c= np.arange(1000)\n",
    "print(c.size*c.itemsize)"
   ]
  },
  {
   "cell_type": "code",
   "execution_count": 8,
   "id": "439a93bf-acc9-4c68-a238-4e49108001d9",
   "metadata": {},
   "outputs": [],
   "source": [
    "size = 100000\n",
    "l1= range(size)\n",
    "l2= range(size)\n",
    "A1 = np.arange(size)\n",
    "A2= np.arange(size)"
   ]
  },
  {
   "cell_type": "code",
   "execution_count": 12,
   "id": "c47c761e-b5a8-4204-a3fb-f3ea1280f38f",
   "metadata": {},
   "outputs": [
    {
     "name": "stdout",
     "output_type": "stream",
     "text": [
      "python list took: 7.002115249633789\n",
      "numpy array took: 1.0173320770263672\n"
     ]
    }
   ],
   "source": [
    "#to check the time required by list and array\n",
    "start = time.time()\n",
    "result =[(x+y) for x,y in zip(l1,l2)]\n",
    "print(\"python list took:\",(time.time()-start)*1000)\n",
    "start=time.time()\n",
    "result = A1+A2\n",
    "print(\"numpy array took:\",(time.time()-start)*1000)"
   ]
  },
  {
   "cell_type": "code",
   "execution_count": 16,
   "id": "145aea10-4e59-43d0-92bc-596d1ffcc381",
   "metadata": {},
   "outputs": [
    {
     "data": {
      "text/plain": [
       "2"
      ]
     },
     "execution_count": 16,
     "metadata": {},
     "output_type": "execute_result"
    }
   ],
   "source": [
    " a= np.array([[1,2],[3,4],[5,6]])\n",
    "a.ndim  # for checking dimention of the array"
   ]
  },
  {
   "cell_type": "code",
   "execution_count": 17,
   "id": "19e8936c-9487-482f-9918-35db4c47f1ec",
   "metadata": {},
   "outputs": [
    {
     "data": {
      "text/plain": [
       "4"
      ]
     },
     "execution_count": 17,
     "metadata": {},
     "output_type": "execute_result"
    }
   ],
   "source": [
    "a.itemsize  # for item size"
   ]
  },
  {
   "cell_type": "code",
   "execution_count": 18,
   "id": "10a9893b-9e1b-444c-8893-4023a5a3e34a",
   "metadata": {},
   "outputs": [
    {
     "data": {
      "text/plain": [
       "(3, 2)"
      ]
     },
     "execution_count": 18,
     "metadata": {},
     "output_type": "execute_result"
    }
   ],
   "source": [
    "a.shape  #shape "
   ]
  },
  {
   "cell_type": "code",
   "execution_count": 19,
   "id": "4b8a4411-0b95-4f91-b181-3b64e6200e8b",
   "metadata": {},
   "outputs": [
    {
     "data": {
      "text/plain": [
       "array([[1., 2.],\n",
       "       [3., 4.],\n",
       "       [5., 6.]])"
      ]
     },
     "execution_count": 19,
     "metadata": {},
     "output_type": "execute_result"
    }
   ],
   "source": [
    "a= np.array([[1,2],[3,4],[5,6]], dtype=np.float64) #changing the data type\n",
    "a"
   ]
  },
  {
   "cell_type": "code",
   "execution_count": 24,
   "id": "aafd2bd5-6b5d-414a-bcbe-7ae934be08e2",
   "metadata": {},
   "outputs": [
    {
     "data": {
      "text/plain": [
       "array([[1.+0.j, 2.+0.j],\n",
       "       [3.+0.j, 4.+0.j],\n",
       "       [5.+0.j, 6.+0.j]])"
      ]
     },
     "execution_count": 24,
     "metadata": {},
     "output_type": "execute_result"
    }
   ],
   "source": [
    "a= np.array([[1,2],[3,4],[5,6]] , dtype=np.complex128)\n",
    "a "
   ]
  },
  {
   "cell_type": "code",
   "execution_count": 25,
   "id": "dedc1404-f1e5-4afd-a156-84f3d4c2f8d3",
   "metadata": {},
   "outputs": [
    {
     "data": {
      "text/plain": [
       "array([[0., 0., 0., 0.],\n",
       "       [0., 0., 0., 0.],\n",
       "       [0., 0., 0., 0.]])"
      ]
     },
     "execution_count": 25,
     "metadata": {},
     "output_type": "execute_result"
    }
   ],
   "source": [
    "np.zeros((3,4))"
   ]
  },
  {
   "cell_type": "code",
   "execution_count": 27,
   "id": "0bc77c28-535c-4a97-b277-7cd30a6325d8",
   "metadata": {},
   "outputs": [
    {
     "data": {
      "text/plain": [
       "array([[1, 1, 1, 1],\n",
       "       [1, 1, 1, 1],\n",
       "       [1, 1, 1, 1]])"
      ]
     },
     "execution_count": 27,
     "metadata": {},
     "output_type": "execute_result"
    }
   ],
   "source": [
    "np.ones((3,4), dtype=np.int_)"
   ]
  },
  {
   "cell_type": "code",
   "execution_count": 30,
   "id": "c046290e-8ea7-4c36-8a69-b1b2dd5a6c8d",
   "metadata": {},
   "outputs": [
    {
     "data": {
      "text/plain": [
       "range(0, 5)"
      ]
     },
     "execution_count": 30,
     "metadata": {},
     "output_type": "execute_result"
    }
   ],
   "source": [
    "l= range(5)\n",
    "l"
   ]
  },
  {
   "cell_type": "code",
   "execution_count": 31,
   "id": "fa1d6c48-719b-4b24-8c46-83fc2562a760",
   "metadata": {},
   "outputs": [
    {
     "data": {
      "text/plain": [
       "array([0, 1, 2, 3, 4])"
      ]
     },
     "execution_count": 31,
     "metadata": {},
     "output_type": "execute_result"
    }
   ],
   "source": [
    "np.arange(5)"
   ]
  },
  {
   "cell_type": "code",
   "execution_count": 33,
   "id": "a46418ab-c64d-403d-a01c-4f46bb91703c",
   "metadata": {},
   "outputs": [
    {
     "name": "stdout",
     "output_type": "stream",
     "text": [
      "concatination example:\n",
      "['helloabc' 'hixyz']\n"
     ]
    }
   ],
   "source": [
    " print('concatination example:')\n",
    "print(np.char.add(['hello','hi'],['abc','xyz']))"
   ]
  },
  {
   "cell_type": "code",
   "execution_count": 35,
   "id": "d7dced5f-5e6e-4081-ac7e-184477d42d50",
   "metadata": {},
   "outputs": [
    {
     "name": "stdout",
     "output_type": "stream",
     "text": [
      "Hello Hello Hello Hello \n"
     ]
    }
   ],
   "source": [
    "print(np.char.multiply('Hello ',4))"
   ]
  },
  {
   "cell_type": "code",
   "execution_count": 37,
   "id": "d78db825-2ac5-4a04-95e1-44fba4109dab",
   "metadata": {},
   "outputs": [
    {
     "name": "stdout",
     "output_type": "stream",
     "text": [
      "-------hello--------\n"
     ]
    }
   ],
   "source": [
    "print(np.char.center(\"hello\",20,fillchar=\"-\"))"
   ]
  },
  {
   "cell_type": "code",
   "execution_count": 47,
   "id": "1eb510f1-2e57-4d40-9117-9d25d871232d",
   "metadata": {},
   "outputs": [
    {
     "name": "stdout",
     "output_type": "stream",
     "text": [
      "Hello How Are You Doing\n",
      "hello how are you doing\n",
      "HELLO HOW ARE YOU DOING\n",
      "['hello', 'how', 'are', 'you', 'doing']\n",
      "['ello' 'ow' 'are' 'you' 'doing']\n",
      "['d:m:y:d:j']\n",
      "He was a very good dancer\n"
     ]
    }
   ],
   "source": [
    " print(np.char.title(\"hello how are you doing\"))\n",
    " print(np.char.lower(\"hello how are you doing\"))\n",
    " print(np.char.upper(\"hello how are you doing\"))\n",
    " print(np.char.split(\"hello how are you doing\"))\n",
    " print(np.char.strip([\"hello\", \"how\", \"hare\", \"hyou\", \"hdoing\"],'h'))\n",
    "print(np.char.join([':'],['dmydj']))\n",
    "print(np.char.replace('He is a very good dancer','is','was'))"
   ]
  },
  {
   "cell_type": "markdown",
   "id": "c76f8a57-7028-4c1d-bc47-44d59055abe8",
   "metadata": {},
   "source": [
    "## Array Manipulation\n",
    "### changing shape"
   ]
  },
  {
   "cell_type": "code",
   "execution_count": 54,
   "id": "38f4296a-0fd8-4bce-90c9-ce8b42567caf",
   "metadata": {},
   "outputs": [
    {
     "name": "stdout",
     "output_type": "stream",
     "text": [
      "The original array: [0 1 2 3 4 5 6 7 8]\n",
      "reshape:\n",
      " [[0 1 2]\n",
      " [3 4 5]\n",
      " [6 7 8]]\n",
      "[0 1 2 3 4 5 6 7 8]\n",
      "[0 3 6 1 4 7 2 5 8]\n"
     ]
    }
   ],
   "source": [
    "a=np.arange(9)\n",
    "print(\"The original array:\", a)\n",
    "b= a.reshape(3,3)\n",
    "print(\"reshape:\\n\", b)\n",
    "print(b.flatten()) #for flattening it\n",
    "print(b.flatten(order='F')) #flattening in y axis"
   ]
  },
  {
   "cell_type": "code",
   "execution_count": 3,
   "id": "93b42a8d-ce6a-4d31-9c1d-a6d067dea489",
   "metadata": {},
   "outputs": [
    {
     "name": "stdout",
     "output_type": "stream",
     "text": [
      "[[ 0  1  2]\n",
      " [ 3  4  5]\n",
      " [ 6  7  8]\n",
      " [ 9 10 11]]\n",
      "---------transpose---------\n",
      " [[ 0  3  6  9]\n",
      " [ 1  4  7 10]\n",
      " [ 2  5  8 11]]\n",
      "------reshaping-----\n",
      "\n"
     ]
    },
    {
     "data": {
      "text/plain": [
       "array([[[0, 1],\n",
       "        [2, 3]],\n",
       "\n",
       "       [[4, 5],\n",
       "        [6, 7]]])"
      ]
     },
     "execution_count": 3,
     "metadata": {},
     "output_type": "execute_result"
    }
   ],
   "source": [
    "a = np.arange(12).reshape(4,3)\n",
    "print(a)\n",
    "print('---------transpose---------\\n',np.transpose(a))\n",
    "# a = np.arange(12).reshape(4,2) it will give error\n",
    "b=np.arange(8).reshape(4,2)\n",
    "print('------reshaping-----\\n')\n",
    "c= b.reshape(2,2,2)\n",
    "c"
   ]
  },
  {
   "cell_type": "code",
   "execution_count": 71,
   "id": "b1035c2f-d65b-4d98-a339-057cd735cb64",
   "metadata": {},
   "outputs": [
    {
     "data": {
      "text/plain": [
       "array([[[0, 2],\n",
       "        [1, 3]],\n",
       "\n",
       "       [[4, 6],\n",
       "        [5, 7]]])"
      ]
     },
     "execution_count": 71,
     "metadata": {},
     "output_type": "execute_result"
    }
   ],
   "source": [
    "np.rollaxis(c,2,1)"
   ]
  },
  {
   "cell_type": "code",
   "execution_count": 70,
   "id": "178c3635-ec33-495c-8a1c-b3c582b5d98f",
   "metadata": {},
   "outputs": [
    {
     "data": {
      "text/plain": [
       "array([[[0, 2],\n",
       "        [1, 3]],\n",
       "\n",
       "       [[4, 6],\n",
       "        [5, 7]]])"
      ]
     },
     "execution_count": 70,
     "metadata": {},
     "output_type": "execute_result"
    }
   ],
   "source": [
    "np.swapaxes(c,1,2)"
   ]
  },
  {
   "cell_type": "markdown",
   "id": "f2a383fc-76b8-47c2-85fb-8154ad874162",
   "metadata": {},
   "source": [
    "## NumPy Arithmetic Operation"
   ]
  },
  {
   "cell_type": "code",
   "execution_count": 78,
   "id": "ed83765c-59f8-4fd1-9b73-3c6c0340a3a5",
   "metadata": {},
   "outputs": [
    {
     "name": "stdout",
     "output_type": "stream",
     "text": [
      "add:\n",
      " [[  10  101 1002]\n",
      " [  13  104 1005]\n",
      " [  16  107 1008]]\n",
      "substract:\n",
      " [[ -10  -99 -998]\n",
      " [  -7  -96 -995]\n",
      " [  -4  -93 -992]]\n",
      "multiply:\n",
      " [[   0  100 2000]\n",
      " [  30  400 5000]\n",
      " [  60  700 8000]]\n",
      "divide:\n",
      " [[0.    0.01  0.002]\n",
      " [0.3   0.04  0.005]\n",
      " [0.6   0.07  0.008]]\n"
     ]
    }
   ],
   "source": [
    "a=np.arange(9).reshape(3,3)\n",
    "b=np.array([10,100,1000])\n",
    "print('add:\\n',np.add(a,b))\n",
    "print('substract:\\n',np.subtract(a,b))\n",
    "print('multiply:\\n',np.multiply(a,b))\n",
    "print('divide:\\n',np.divide(a,b))"
   ]
  },
  {
   "cell_type": "markdown",
   "id": "2b54d794-2770-4b32-8cc8-9319bb5447ed",
   "metadata": {},
   "source": [
    "## Slicing"
   ]
  },
  {
   "cell_type": "code",
   "execution_count": 4,
   "id": "486dac79-6061-44f1-822f-1689d76deede",
   "metadata": {},
   "outputs": [
    {
     "data": {
      "text/plain": [
       "array([ 0,  1,  2,  3,  4,  5,  6,  7,  8,  9, 10, 11, 12, 13, 14, 15, 16,\n",
       "       17, 18, 19])"
      ]
     },
     "execution_count": 4,
     "metadata": {},
     "output_type": "execute_result"
    }
   ],
   "source": [
    "a=np.arange(20)\n",
    "a"
   ]
  },
  {
   "cell_type": "code",
   "execution_count": 8,
   "id": "d9440969-5f74-4c07-9a04-42caa4e727e1",
   "metadata": {},
   "outputs": [
    {
     "name": "stdout",
     "output_type": "stream",
     "text": [
      "[ 4  6  8 10]\n",
      "[ 2  5  8 11 14 17]\n"
     ]
    }
   ],
   "source": [
    "print(a[4:12:2])\n",
    "s=slice(2,20,3)\n",
    "print(a[s])"
   ]
  },
  {
   "cell_type": "markdown",
   "id": "1af4ef85-5f25-49f8-b9c1-4810ecf4f956",
   "metadata": {},
   "source": [
    "### Iteration over Array\n"
   ]
  },
  {
   "cell_type": "code",
   "execution_count": 21,
   "id": "c85051aa-cf1c-4fda-b6d6-0fe6f9ed8b01",
   "metadata": {},
   "outputs": [
    {
     "name": "stdout",
     "output_type": "stream",
     "text": [
      "[ 0  4  8 12 16 20 24 28 32 36 40 44]\n",
      "[[ 0  4  8 12]\n",
      " [16 20 24 28]\n",
      " [32 36 40 44]]\n",
      "0\n",
      "4\n",
      "8\n",
      "12\n",
      "16\n",
      "20\n",
      "24\n",
      "28\n",
      "32\n",
      "36\n",
      "40\n",
      "44\n"
     ]
    }
   ],
   "source": [
    "a=np.arange(0,48,4)\n",
    "print(a)\n",
    "a =a.reshape(3,4)\n",
    "print(a)\n",
    "for x in np.nditer(a):\n",
    "    print(x)"
   ]
  },
  {
   "cell_type": "markdown",
   "id": "2d43deb3-3caf-47c2-bd1b-1322e57cabe9",
   "metadata": {},
   "source": [
    "### Iteration order (c-style and f-style)"
   ]
  },
  {
   "cell_type": "code",
   "execution_count": 20,
   "id": "0ff23d93-6050-470d-8b04-9371f5e0b67b",
   "metadata": {},
   "outputs": [
    {
     "name": "stdout",
     "output_type": "stream",
     "text": [
      "for c type\n",
      "0\n",
      "4\n",
      "8\n",
      "12\n",
      "16\n",
      "20\n",
      "24\n",
      "28\n",
      "32\n",
      "36\n",
      "40\n",
      "44\n",
      "for f type\n",
      "0\n",
      "16\n",
      "32\n",
      "4\n",
      "20\n",
      "36\n",
      "8\n",
      "24\n",
      "40\n",
      "12\n",
      "28\n",
      "44\n"
     ]
    }
   ],
   "source": [
    "print(\"for c type\")\n",
    "for x in np.nditer(a, order=\"c\"):\n",
    "    print(x)\n",
    "print(\"for f type\")\n",
    "for x in np.nditer(a,order=\"F\"):\n",
    "    print(x)"
   ]
  },
  {
   "cell_type": "markdown",
   "id": "8f32f79d-98e2-4ece-a312-8e39838b5a27",
   "metadata": {},
   "source": [
    "### Joining Arrays"
   ]
  },
  {
   "cell_type": "code",
   "execution_count": 28,
   "id": "9919a786-c598-4788-9016-132011a8338c",
   "metadata": {},
   "outputs": [
    {
     "name": "stdout",
     "output_type": "stream",
     "text": [
      "first array\n",
      "[[1 2]\n",
      " [2 4]]\n",
      "second array\n",
      "[[ 5  6]\n",
      " [10 14]]\n",
      "joining them along axis 0:\n",
      "[[ 1  2]\n",
      " [ 2  4]\n",
      " [ 5  6]\n",
      " [10 14]]\n",
      "joining them along axis 1:\n",
      "[[ 1  2  5  6]\n",
      " [ 2  4 10 14]]\n"
     ]
    }
   ],
   "source": [
    "a=np.array([[1,2],[2,4]])\n",
    "print('first array')\n",
    "print(a)\n",
    "b=np.array([[5,6],[10,14]])\n",
    "print('second array')\n",
    "print(b)\n",
    "print('joining them along axis 0:')\n",
    "print(np.concatenate((a,b)))\n",
    "print('joining them along axis 1:')\n",
    "print(np.concatenate((a,b),axis=1))"
   ]
  },
  {
   "cell_type": "markdown",
   "id": "19bda141-43ac-49c7-95da-20cba6fe338e",
   "metadata": {},
   "source": [
    "### Splitting srray"
   ]
  },
  {
   "cell_type": "code",
   "execution_count": 36,
   "id": "2439957e-7370-4ddb-b9af-cbfdbfbdc6c0",
   "metadata": {},
   "outputs": [
    {
     "name": "stdout",
     "output_type": "stream",
     "text": [
      "[ 0 12 24 36 48 60 72 84 96]\n",
      "[array([ 0, 12, 24]), array([36, 48, 60]), array([72, 84, 96])]\n",
      "[array([ 0, 12]), array([24, 36, 48]), array([60, 72, 84, 96])]\n"
     ]
    }
   ],
   "source": [
    "a= np.arange(0,100,12)\n",
    "print(a)\n",
    "print(np.split(a,3))\n",
    "print(np.split(a,[2,5])) #it will split on the postions given"
   ]
  },
  {
   "cell_type": "markdown",
   "id": "a3e8f679-b470-4481-a694-33b832f92fe4",
   "metadata": {},
   "source": [
    "### resizing the array"
   ]
  },
  {
   "cell_type": "code",
   "execution_count": 44,
   "id": "6dd54e37-9d23-49b9-8371-7dac0d029ae0",
   "metadata": {},
   "outputs": [
    {
     "name": "stdout",
     "output_type": "stream",
     "text": [
      "[ 4  7 10 13 16 19 22 25 28 31 34 37 40 43 46 49]\n",
      "(16,)\n",
      "[[ 4  7 10 13 16]\n",
      " [19 22 25 28 31]\n",
      " [34 37 40 43 46]\n",
      " [49  4  7 10 13]]\n",
      "(4, 5)\n"
     ]
    }
   ],
   "source": [
    "a= np.arange(4,52,3)\n",
    "print(a)\n",
    "print(a.shape)\n",
    "a= np.resize(a,(4,5)) #if there is not enough value it will repeat from the start\n",
    "print(a)\n",
    "print(a.shape)"
   ]
  },
  {
   "cell_type": "markdown",
   "id": "c58b719e-61ba-4f66-8387-fe77a5340cd8",
   "metadata": {},
   "source": [
    "### Histogram"
   ]
  },
  {
   "cell_type": "code",
   "execution_count": 49,
   "id": "acc3e0e8-565e-4606-86cb-653f41ed4968",
   "metadata": {},
   "outputs": [
    {
     "data": {
      "image/png": "[encoded data removed]",
      "text/plain": [
       "<Figure size 640x480 with 1 Axes>"
      ]
     },
     "metadata": {},
     "output_type": "display_data"
    }
   ],
   "source": [
    "from matplotlib import pyplot as plt\n",
    "a=np.array([20,12,34,53,23,12,20,20,12,34,45,67,73,22,12,97,6,56])\n",
    "plt.hist(a,bins=[0,20,40,60,80,100])\n",
    "plt.title('histogram')\n",
    "plt.show()"
   ]
  },
  {
   "cell_type": "markdown",
   "id": "bac90e23-b836-4342-a090-f49597180605",
   "metadata": {},
   "source": [
    "### Other useful functions in numpy"
   ]
  },
  {
   "cell_type": "code",
   "execution_count": 53,
   "id": "e202be28-62bb-4984-91ea-d47c55a5ca8b",
   "metadata": {},
   "outputs": [
    {
     "name": "stdout",
     "output_type": "stream",
     "text": [
      "[1.         1.18181818 1.36363636 1.54545455 1.72727273 1.90909091\n",
      " 2.09090909 2.27272727 2.45454545 2.63636364 2.81818182 3.        ]\n"
     ]
    }
   ],
   "source": [
    "#inspace fuction\n",
    "a= np.linspace(1,3,12)\n",
    "print(a)"
   ]
  },
  {
   "cell_type": "code",
   "execution_count": 55,
   "id": "60431f0b-61d6-4922-a368-c29629d18b00",
   "metadata": {},
   "outputs": [
    {
     "name": "stdout",
     "output_type": "stream",
     "text": [
      "[ 6  8 10 12]\n",
      "[10 26]\n"
     ]
    }
   ],
   "source": [
    "# sum and axis\n",
    "a= np.array([(1,2,3,4),(5,6,7,8)])\n",
    "print(a.sum(axis=0))\n",
    "print(a.sum(axis=1))"
   ]
  },
  {
   "cell_type": "code",
   "execution_count": 56,
   "id": "bb1be5be-feca-4fb0-9dc4-33b300ea7eed",
   "metadata": {},
   "outputs": [
    {
     "name": "stdout",
     "output_type": "stream",
     "text": [
      "[[1.         1.41421356 1.73205081 2.        ]\n",
      " [2.23606798 2.44948974 2.64575131 2.82842712]]\n",
      "2.29128784747792\n"
     ]
    }
   ],
   "source": [
    "#square root and standard deviation\n",
    "print(np.sqrt(a))\n",
    "print(np.std(a))"
   ]
  },
  {
   "cell_type": "code",
   "execution_count": 58,
   "id": "0cf24212-e4bb-4072-a800-5dcc00999470",
   "metadata": {},
   "outputs": [
    {
     "name": "stdout",
     "output_type": "stream",
     "text": [
      "[ 1  2 13  4  5 62 17  8]\n"
     ]
    }
   ],
   "source": [
    "#ravel function\n",
    "a= np.array([(1,2,13,4),(5,62,17,8)])\n",
    "print(a.ravel())"
   ]
  },
  {
   "cell_type": "markdown",
   "id": "0e148909-3eb2-46d1-9011-df8a24e9d121",
   "metadata": {},
   "source": [
    "### Fun Questions"
   ]
  },
  {
   "cell_type": "code",
   "execution_count": 72,
   "id": "ab079927-036d-4ed2-8667-1f3370db94e4",
   "metadata": {},
   "outputs": [
    {
     "name": "stdout",
     "output_type": "stream",
     "text": [
      "[0.  0.1 0.2 0.3 0.4 0.5 0.6 0.7 0.8 0.9 1.  1.1 1.2 1.3 1.4 1.5 1.6 1.7\n",
      " 1.8 1.9 2.  2.1 2.2 2.3 2.4 2.5 2.6 2.7 2.8 2.9 3.  3.1 3.2 3.3 3.4 3.5\n",
      " 3.6 3.7 3.8 3.9 4.  4.1 4.2 4.3 4.4 4.5 4.6 4.7 4.8 4.9 5.  5.1 5.2 5.3\n",
      " 5.4 5.5 5.6 5.7 5.8 5.9 6.  6.1 6.2 6.3 6.4 6.5 6.6 6.7 6.8 6.9 7.  7.1\n",
      " 7.2 7.3 7.4 7.5 7.6 7.7 7.8 7.9 8.  8.1 8.2 8.3 8.4 8.5 8.6 8.7 8.8 8.9\n",
      " 9.  9.1 9.2 9.3 9.4]\n",
      "[ 0.          0.09983342  0.19866933  0.29552021  0.38941834  0.47942554\n",
      "  0.56464247  0.64421769  0.71735609  0.78332691  0.84147098  0.89120736\n",
      "  0.93203909  0.96355819  0.98544973  0.99749499  0.9995736   0.99166481\n",
      "  0.97384763  0.94630009  0.90929743  0.86320937  0.8084964   0.74570521\n",
      "  0.67546318  0.59847214  0.51550137  0.42737988  0.33498815  0.23924933\n",
      "  0.14112001  0.04158066 -0.05837414 -0.15774569 -0.2555411  -0.35078323\n",
      " -0.44252044 -0.52983614 -0.61185789 -0.68776616 -0.7568025  -0.81827711\n",
      " -0.87157577 -0.91616594 -0.95160207 -0.97753012 -0.993691   -0.99992326\n",
      " -0.99616461 -0.98245261 -0.95892427 -0.92581468 -0.88345466 -0.83226744\n",
      " -0.77276449 -0.70554033 -0.63126664 -0.55068554 -0.46460218 -0.37387666\n",
      " -0.2794155  -0.1821625  -0.0830894   0.0168139   0.1165492   0.21511999\n",
      "  0.31154136  0.40484992  0.49411335  0.57843976  0.6569866   0.72896904\n",
      "  0.79366786  0.85043662  0.8987081   0.93799998  0.96791967  0.98816823\n",
      "  0.99854335  0.99894134  0.98935825  0.96988981  0.94073056  0.90217183\n",
      "  0.85459891  0.79848711  0.7343971   0.66296923  0.58491719  0.50102086\n",
      "  0.41211849  0.31909836  0.22288991  0.12445442  0.02477543]\n"
     ]
    },
    {
     "data": {
      "image/png": "[encoded data removed]",
      "text/plain": [
       "<Figure size 640x480 with 1 Axes>"
      ]
     },
     "metadata": {},
     "output_type": "display_data"
    }
   ],
   "source": [
    "#Now plotting sin graph\n",
    "x=np.arange(0,3*np.pi,0.1)\n",
    "y=np.sin(x)\n",
    "#z=np.arange(0,3)\n",
    "print(x)\n",
    "print(y)\n",
    "plt.plot(x,y) #plt.plot(x,y,z)\n",
    "plt.show()"
   ]
  },
  {
   "cell_type": "code",
   "execution_count": 79,
   "id": "ce3545d1-9261-41bf-8e38-80a1f1bc31a0",
   "metadata": {},
   "outputs": [
    {
     "name": "stdout",
     "output_type": "stream",
     "text": [
      "[[0 0 0 0 0]\n",
      " [1 0 1 0 1]\n",
      " [0 0 0 0 0]\n",
      " [1 0 1 0 1]\n",
      " [0 0 0 0 0]]\n",
      "\n",
      "\n",
      "[[0 1 0 1 0]\n",
      " [1 0 1 0 1]\n",
      " [0 1 0 1 0]\n",
      " [1 0 1 0 1]\n",
      " [0 1 0 1 0]]\n"
     ]
    }
   ],
   "source": [
    "#create a 5*5 two-dimention array,and let 1 and 0 be placed alternatively across the diagonals\n",
    "a=np.zeros((5,5),dtype=int)\n",
    "a[1::2,::2]=1\n",
    "print(a)\n",
    "print('\\n')\n",
    "a[::2,1::2]=1\n",
    "print(a)"
   ]
  },
  {
   "cell_type": "code",
   "execution_count": 26,
   "id": "ac81d48a-926c-49ff-892f-663c487aacf0",
   "metadata": {},
   "outputs": [
    {
     "data": {
      "text/plain": [
       "array([[0.42955827, 0.53175444, 0.62714749, 0.11727943, 0.51253656],\n",
       "       [0.31476353, 0.03763484, 0.03469238,        nan, 0.14410527],\n",
       "       [       nan, 0.74063499, 0.4230139 , 0.00981315, 0.21978306],\n",
       "       [0.27853654, 0.30760684, 0.37984629, 0.44983677,        nan],\n",
       "       [0.11930888, 0.47496615, 0.02216922, 0.62975074, 0.95919234]])"
      ]
     },
     "execution_count": 26,
     "metadata": {},
     "output_type": "execute_result"
    }
   ],
   "source": [
    "h = np.random.rand(5,5)\n",
    "h[np.random.randint(5, size=3), np.random.randint(5, size=3)] = np.nan\n",
    "h"
   ]
  },
  {
   "cell_type": "code",
   "execution_count": 31,
   "id": "ef1cf5fe-f267-4b4d-8b61-dcfa1d319da4",
   "metadata": {},
   "outputs": [
    {
     "name": "stdout",
     "output_type": "stream",
     "text": [
      "total no. of missing value:\n",
      " 0\n",
      "the idexes which are missing value: \n",
      " []\n",
      "(array([], dtype=int64), array([], dtype=int64))\n"
     ]
    },
    {
     "data": {
      "text/plain": [
       "array([[0.42955827, 0.53175444, 0.62714749, 0.11727943, 0.51253656],\n",
       "       [0.31476353, 0.03763484, 0.03469238, 0.        , 0.14410527],\n",
       "       [0.        , 0.74063499, 0.4230139 , 0.00981315, 0.21978306],\n",
       "       [0.27853654, 0.30760684, 0.37984629, 0.44983677, 0.        ],\n",
       "       [0.11930888, 0.47496615, 0.02216922, 0.62975074, 0.95919234]])"
      ]
     },
     "execution_count": 31,
     "metadata": {},
     "output_type": "execute_result"
    }
   ],
   "source": [
    "print(\"total no. of missing value:\\n\",np.isnan(h).sum())\n",
    "print(\"the idexes which are missing value: \\n\",np.argwhere(np.isnan(h)))\n",
    "inds=np.where(np.isnan(h))\n",
    "print(inds)\n",
    "h[inds]=0\n",
    "h"
   ]
  }
 ],
 "metadata": {
  "kernelspec": {
   "display_name": "Python 3 (ipykernel)",
   "language": "python",
   "name": "python3"
  },
  "language_info": {
   "codemirror_mode": {
    "name": "ipython",
    "version": 3
   },
   "file_extension": ".py",
   "mimetype": "text/x-python",
   "name": "python",
   "nbconvert_exporter": "python",
   "pygments_lexer": "ipython3",
   "version": "3.11.7"
  },
  "widgets": {
   "application/vnd.jupyter.widget-state+json": {
    "state": {},
    "version_major": 2,
    "version_minor": 0
   }
  }
 },
 "nbformat": 4,
 "nbformat_minor": 5
}
